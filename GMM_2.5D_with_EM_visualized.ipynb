import numpy as np
import matplotlib.pyplot as plt
from scipy.stats import multivariate_normal
from mpl_toolkits.mplot3d import Axes3D

def generate_gaussian_samples(mu, cov):
    """Generate samples from multiple Gaussian distributions based on specified means and covariance matrices."""
    np.random.seed(1)
    samples = np.zeros((2000*len(mu), len(mu[0])))
    for i, (mean, covariance) in enumerate(zip(mu, cov)):
        samples[i*2000:(i+1)*2000] = np.random.multivariate_normal(mean, covariance, 2000)
    plt.figure(figsize=(8, 8))
    plt.scatter(samples[:, 0], samples[:, 1], alpha=0.2)
    plt.title('Generated Samples')
    plt.xlabel('X1')
    plt.ylabel('X2')
    plt.axis('equal')
    plt.show()
    return samples

def initialize_parameters(num_components, seed):
    """Initialize the parameters for the EM algorithm: mixing probabilities, means, and covariance matrices."""
    pis = [1 / num_components] * num_components
    np.random.seed(seed)
    mus = np.random.rand(num_components, 2) * 4 - 2  # Randomly initialized means
    sigmas = np.array([np.eye(2) for _ in range(num_components)])  # Identity matrices as initial covariances
    return pis, mus, sigmas

def run_em_algorithm(data, max_iter, pi, mu, cov, threshold=0.01):
    """Iteratively apply E-step and M-step of the EM algorithm and plot intermediate results."""
    previous_aic = float('inf')
    no_improve_count = 0
    aic_list = []
    
    for it in range(max_iter):
        r, m_c, pi = expectation_step(data, mu, cov, pi)
        mu, cov = maximization_step(data, r, m_c)
        current_aic = compute_aic(data, mu, cov, pi)
        aic_list.append(current_aic)
        if it % 10 == 0  or it == max_iter - 1:
            print(f"Iteration {it}: AIC={current_aic}, pi={pi}, \nmu=\n{mu}, \ncov=\n{cov}")
            plot_gaussian_mixtures(data, mu, cov, pi)
        if previous_aic - current_aic < threshold:
            no_improve_count += 1
            if no_improve_count >= 3:
                print(f"Terminating early: AIC improvement less than {threshold} for three consecutive iterations.")
                return aic_list
        else:
            no_improve_count = 0
        
        previous_aic = current_aic
    print(f'Algorithm did not converge in {max_iter} iterations')
    return aic_list

def expectation_step(data, mu, cov, pi):
    """E-step: Calculate responsibilities based on current parameter estimates."""
    r = np.array([pi[i] * multivariate_normal(mu[i], cov[i]).pdf(data) for i in range(len(pi))]).T
    r /= r.sum(axis=1, keepdims=True)
    m_c = r.sum(axis=0)
    pi = m_c / m_c.sum()
    return r, m_c, pi

def maximization_step(data, r, m_c):
    """M-step: Update parameters based on current responsibilities."""
    mu = np.array([r[:, i].dot(data) / m_c[i] for i in range(len(m_c))])
    cov = np.array([(np.dot((data - mu[i]).T, (data - mu[i]) * r[:, i][:, np.newaxis]) / m_c[i]) for i in range(len(m_c))])
    return mu, cov

def compute_aic(data, mu, cov, pi):
    """Compute the Akaike Information Criterion for the model."""
    k = len(mu) * (len(mu[0]) + len(mu[0]) * (len(mu[0]) + 1) / 2 + 1)  # Number of parameters
    likelihood = np.sum(np.log(np.sum([pi[i] * multivariate_normal(mu[i], cov[i]).pdf(data) for i in range(len(pi))], axis=0)))
    aic = 2 * k - 2 * likelihood
    return aic

def plot_gaussian_mixtures(data, mu, cov, pi):
    """Visualize the data along with the Gaussian mixture model probability contours."""
    x, y = np.meshgrid(np.linspace(-4, 4, 100), np.linspace(-4, 4, 100))
    pos = np.dstack((x, y))
    fig, ax = plt.subplots(figsize=(10, 7))
    
    # Calculate the total density for the mixture
    total_density = np.zeros(pos.shape[:2])
    for i in range(len(pi)):
        rv = multivariate_normal(mu[i], cov[i])
        total_density += pi[i] * rv.pdf(pos)

    # Plot contours for the total density
    contour = ax.contourf(x, y, total_density, levels=8)
    cbar = plt.colorbar(contour, ax=ax)
    cbar.set_label('Probability Density')

    # Scatter plot of the samples
    ax.scatter(data[:, 0], data[:, 1], alpha=0.02, color='red', marker='o', label='Data points')
    ax.set_xlabel('X1')
    ax.set_ylabel('X2')
    ax.set_title('Gaussian Mixture Model Fit - Contour Plot')
    ax.legend()

    plt.show()

def main():
    n_modules = 4
    seed = 0
    max_iterations = 200
    
    mu = [[-0.9, -0.9], [-0.9, 0.9], [0.9, -0.9], [0.4, 0.4]]
    cov = [[[0.55, -0.18], [-0.18, 0.35]], [[0.4, 0.15], [0.15, 0.4]], [[0.38, 0.18], [0.18, 0.39]], [[0.43, 0.3], [0.3, 0.43]]]
    samples = generate_gaussian_samples(mu, cov)
    pis, mus, sigmas = initialize_parameters(n_modules, seed)
    aic_list = run_em_algorithm(samples, max_iterations, pis, mus, sigmas, threshold=0.1)
    
    fig = plt.figure(figsize=(12, 5))
    ax0 = fig.add_subplot(111)
    ax0.plot(aic_list)
    ax0.set_ylabel('AIC value')

if __name__ == '__main__':
    main()
